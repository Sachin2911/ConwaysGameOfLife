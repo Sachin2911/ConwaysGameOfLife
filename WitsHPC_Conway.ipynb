{
 "cells": [
  {
   "cell_type": "markdown",
   "id": "91f3b87a",
   "metadata": {},
   "source": [
    "## Problem\n",
    "### Game of Life\n",
    "Conway's Game of Life is a cellular automaton that is played on a grid of cells. Each cell can be either alive or dead. The game progresses in discrete steps. At each step, the following rules are applied to each cell:\n",
    "\n",
    "- Any live cell with fewer than two live neighbours dies, as if by underpopulation.\n",
    "- Any live cell with two or three live neighbours lives on to the next generation.\n",
    "- Any live cell with more than three live neighbours dies, as if by overpopulation.\n",
    "- Any dead cell with exactly three live neighbours becomes a live cell, as if by reproduction.\n",
    "\n",
    "A cell's neighbours are those cells which are horizontally, vertically or diagonally adjacent. Most cells will have eight neighbours. We also follow wrapping conventions, so that the top row is adjacent to the bottom row, and the left column is adjacent to the right column.\n",
    "Furthermore, we do not update the grid in place. This means we first compute the next state of the grid using the current state and then update the grid with the new state. Notably, this is often done using two arrays, one for the current state and one for the next state. This is because the next state of a cell depends on the current state of the cell and its neighbours. If we were to update the grid in place, then we would be using the new state of a cell to compute the new state of its neighbours, which is not what we want.\n",
    "\n",
    "### Our parametrisation\n",
    "For this challenge, we make a small change to the rules above. Instead of having a fixed number of neighbours for each of the rules, we allow the number of neighbours to be a parameter. In particular, we have three parameters A, B, and C and the rules are as follows:\n",
    "\n",
    "- Any live cell with fewer than A live neighbours dies, as if by underpopulation.\n",
    "- Any live cell with between A or B live neighbours lives on to the next generation (inclusive).\n",
    "- Any live cell with more than B live neighbours dies, as if by overpopulation.\n",
    "- Any dead cell with exactly C live neighbours becomes a live cell, as if by reproduction.\n",
    "\n",
    "### Input\n",
    "Your input will be passed in via standard in and will consist of several lines. The first line will be:\n",
    "\n",
    "w h n m A B C, where:\n",
    "\n",
    "- w is the width of the grid\n",
    "- h is the height of the grid\n",
    "- n is the number of steps to simulate\n",
    "- m is the output frequency, i.e. the number of steps between each output\n",
    "Then, A, B, and C, indicate the numbers for the rules mentioned above\n",
    "We guarantee that the parameters will have the following bounds:\n",
    "\n",
    "The next h lines will indicate the initial state. Each line will have w characters, each of which will be either . (dead) or # (alive).\n",
    "\n",
    "### Output\n",
    "The output must be the state of the grid, every m steps, for n steps. The output must be in the same format as the input. For instance, if n = 1001 and m = 250, we output the following:\n",
    "\n",
    "The result after the first iteration\n",
    "The result after the 251st iteration\n",
    "The result after the 501st iteration\n",
    "The result after the 751st iteration\n",
    "The result after the 1001st iteration\n",
    "You must always output the final state of the grid, but do not output it twice. Furthermore, the state after the first iteration must also always be printed, regardless of the value of m."
   ]
  },
  {
   "cell_type": "code",
   "execution_count": 20,
   "id": "8d45e1e0",
   "metadata": {},
   "outputs": [],
   "source": [
    "#Example \n",
    "# 10 10 1000000 100000000 2 3 3\n",
    "# ..........\n",
    "# .#........\n",
    "# .#........\n",
    "# ..........\n",
    "# .....#..#.\n",
    "# .......##.\n",
    "# ........#.\n",
    "# #.........\n",
    "# ..........\n",
    "# .........."
   ]
  },
  {
   "cell_type": "code",
   "execution_count": 6,
   "id": "56132611",
   "metadata": {},
   "outputs": [],
   "source": [
    "#Creating the print grid function\n",
    "def printGrid(grid):\n",
    "    bigGrid = []\n",
    "    for i in grid:\n",
    "        bigGrid.append(''.join(i))\n",
    "    print('\\n'.join(bigGrid))\n",
    "\n",
    "#Creating the main game function\n",
    "def conwaysGameOfLife(w, h, n, m, A, B, C, initial_grid):\n",
    "    #Converting the initial grid to a list form\n",
    "    #Separating into seperate rows, every 10 characters\n",
    "    grid_splits = [initial_grid[i:i+w] for i in range(0, len(initial_grid), w)]\n",
    "    #Seperating each row into different columns\n",
    "    griddy = []\n",
    "    for i in grid_splits:\n",
    "        griddy.append(list(i))\n",
    "    return griddy"
   ]
  },
  {
   "cell_type": "code",
   "execution_count": 7,
   "id": "69d9c072",
   "metadata": {},
   "outputs": [
    {
     "name": "stdout",
     "output_type": "stream",
     "text": [
      "..........\n",
      ".#........\n",
      ".#........\n",
      "..........\n",
      ".....#..#.\n",
      ".......##.\n",
      "........#.\n",
      "#.........\n",
      "..........\n",
      "..........\n"
     ]
    }
   ],
   "source": [
    "printGrid(conwaysGameOfLife(10, 10, 1000000, 100000000, 2, 3, 3, '...........#.........#.......................#..#........##.........#.#.............................'))"
   ]
  },
  {
   "cell_type": "code",
   "execution_count": 18,
   "id": "c3fdf4c8",
   "metadata": {},
   "outputs": [],
   "source": [
    "test_grid = conwaysGameOfLife(10, 10, 1000000, 100000000, 2, 3, 3, '...........#.........#.......................#..#........##.........#.#.............................')"
   ]
  },
  {
   "cell_type": "markdown",
   "id": "c85c3b59",
   "metadata": {},
   "source": [
    "To make decisions on whether the cell will be dead or alive, we need the number of neighbors it has. To achieve this we need to iterate first get how many live neighbors a cell has. This can be done by iterating through each element in the list and keep track of row and column number"
   ]
  },
  {
   "cell_type": "code",
   "execution_count": 19,
   "id": "0f42ee1b",
   "metadata": {},
   "outputs": [
    {
     "data": {
      "text/plain": [
       "[['.', '.', '.', '.', '.', '.', '.', '.', '.', '.'],\n",
       " ['.', '#', '.', '.', '.', '.', '.', '.', '.', '.'],\n",
       " ['.', '#', '.', '.', '.', '.', '.', '.', '.', '.'],\n",
       " ['.', '.', '.', '.', '.', '.', '.', '.', '.', '.'],\n",
       " ['.', '.', '.', '.', '.', '#', '.', '.', '#', '.'],\n",
       " ['.', '.', '.', '.', '.', '.', '.', '#', '#', '.'],\n",
       " ['.', '.', '.', '.', '.', '.', '.', '.', '#', '.'],\n",
       " ['#', '.', '.', '.', '.', '.', '.', '.', '.', '.'],\n",
       " ['.', '.', '.', '.', '.', '.', '.', '.', '.', '.'],\n",
       " ['.', '.', '.', '.', '.', '.', '.', '.', '.', '.']]"
      ]
     },
     "execution_count": 19,
     "metadata": {},
     "output_type": "execute_result"
    }
   ],
   "source": [
    "test_grid"
   ]
  },
  {
   "cell_type": "code",
   "execution_count": 20,
   "id": "92edff77",
   "metadata": {},
   "outputs": [
    {
     "ename": "IndexError",
     "evalue": "list index out of range",
     "output_type": "error",
     "traceback": [
      "\u001b[1;31m---------------------------------------------------------------------------\u001b[0m",
      "\u001b[1;31mIndexError\u001b[0m                                Traceback (most recent call last)",
      "Input \u001b[1;32mIn [20]\u001b[0m, in \u001b[0;36m<cell line: 2>\u001b[1;34m()\u001b[0m\n\u001b[0;32m      1\u001b[0m \u001b[38;5;66;03m#Case 1\u001b[39;00m\n\u001b[1;32m----> 2\u001b[0m \u001b[43mtest_grid\u001b[49m\u001b[43m[\u001b[49m\u001b[38;5;241;43m0\u001b[39;49m\u001b[43m]\u001b[49m\u001b[43m[\u001b[49m\u001b[38;5;241;43m10\u001b[39;49m\u001b[43m]\u001b[49m\n",
      "\u001b[1;31mIndexError\u001b[0m: list index out of range"
     ]
    }
   ],
   "source": [
    "#Case 1\n",
    "test_grid[0][10]"
   ]
  },
  {
   "cell_type": "code",
   "execution_count": 21,
   "id": "eeeb1742",
   "metadata": {},
   "outputs": [
    {
     "ename": "IndexError",
     "evalue": "list index out of range",
     "output_type": "error",
     "traceback": [
      "\u001b[1;31m---------------------------------------------------------------------------\u001b[0m",
      "\u001b[1;31mIndexError\u001b[0m                                Traceback (most recent call last)",
      "Input \u001b[1;32mIn [21]\u001b[0m, in \u001b[0;36m<cell line: 2>\u001b[1;34m()\u001b[0m\n\u001b[0;32m      1\u001b[0m \u001b[38;5;66;03m#Case 2\u001b[39;00m\n\u001b[1;32m----> 2\u001b[0m \u001b[43mtest_grid\u001b[49m\u001b[43m[\u001b[49m\u001b[38;5;241;43m0\u001b[39;49m\u001b[43m]\u001b[49m\u001b[43m[\u001b[49m\u001b[38;5;241;43m-\u001b[39;49m\u001b[38;5;241;43m11\u001b[39;49m\u001b[43m]\u001b[49m\n",
      "\u001b[1;31mIndexError\u001b[0m: list index out of range"
     ]
    }
   ],
   "source": [
    "#Case 2\n",
    "test_grid[0][-11]"
   ]
  },
  {
   "cell_type": "markdown",
   "id": "0b05ef6c",
   "metadata": {},
   "source": [
    "Because each side of the grid is wrapped we have a problem with edge cells (Case 1). Hence we need to account for the case where our iterating variable is greater than the range of the index. This is only problem when we increment as the negative range will never be reached (Case 2)"
   ]
  },
  {
   "cell_type": "code",
   "execution_count": 22,
   "id": "eeb3378b",
   "metadata": {},
   "outputs": [],
   "source": [
    "#Neighbour mappings are: \n",
    "\n",
    "#  left-u |   up  | right-u\n",
    "#  left-c | index | right-c\n",
    "#  left-d |  down | right-d "
   ]
  },
  {
   "cell_type": "code",
   "execution_count": 23,
   "id": "6ab3df17",
   "metadata": {},
   "outputs": [],
   "source": [
    "def cellHealth(value_arr):\n",
    "    neighbor_result = []\n",
    "    for i in value_arr:\n",
    "        output = []\n",
    "        for j in i:\n",
    "            if j=='#':\n",
    "                output.append(1)\n",
    "            else:\n",
    "                output.append(0)\n",
    "        neighbor_result.append(output)\n",
    "    return neighbor_result"
   ]
  },
  {
   "cell_type": "code",
   "execution_count": 36,
   "id": "e200bd52",
   "metadata": {},
   "outputs": [],
   "source": [
    "def neighbour_checker(test_grid, i, j):\n",
    "    i_down = i+1\n",
    "    j_right = j+1\n",
    "\n",
    "    if i == 9:\n",
    "        i_down = 0\n",
    "    if j == 9:\n",
    "        j_right = 0\n",
    "    \n",
    "    #the current index is  [i][j]\n",
    "    #Checking left-u neighbor\n",
    "    lu = test_grid[i-1][j-1]\n",
    "    #Checking left-c neighbour\n",
    "    lc =test_grid[i][j-1]\n",
    "    #Checking left_d neighbour\n",
    "    ld = test_grid[i_down][j-1]\n",
    "\n",
    "    #Checking up neighbour\n",
    "    u = test_grid[i-1][j]\n",
    "    #Checking down neighbour\n",
    "    d = test_grid[i_down][j]\n",
    "\n",
    "    #Checking right-u neighbour\n",
    "    ru = test_grid[i-1][j_right]\n",
    "    #Checking right-c neighbour\n",
    "    rc = test_grid[i][j_right]\n",
    "    #Checking right-d neighbour\n",
    "    rd = test_grid[i_down][j_right]\n",
    "    return cellHealth([[lu, lc , ld], [u, d], [ru, rc, rd]])"
   ]
  },
  {
   "cell_type": "code",
   "execution_count": 37,
   "id": "335204c1",
   "metadata": {},
   "outputs": [
    {
     "data": {
      "text/plain": [
       "[[1, 0, 0], [0, 1], [0, 0, 0]]"
      ]
     },
     "execution_count": 37,
     "metadata": {},
     "output_type": "execute_result"
    }
   ],
   "source": [
    "neighbour_checker(test2_grid, 1, 1)"
   ]
  },
  {
   "cell_type": "code",
   "execution_count": 38,
   "id": "7477d29b",
   "metadata": {},
   "outputs": [
    {
     "data": {
      "text/plain": [
       "[[0, 0, 0], [0, 0], [0, 0, 1]]"
      ]
     },
     "execution_count": 38,
     "metadata": {},
     "output_type": "execute_result"
    }
   ],
   "source": [
    "neighbour_checker(test2_grid, 9, 9)"
   ]
  },
  {
   "cell_type": "code",
   "execution_count": 39,
   "id": "8898fd21",
   "metadata": {},
   "outputs": [],
   "source": [
    "test2_grid = conwaysGameOfLife(10, 10, 1000000, 100000000, 2, 3, 3, '#..........#.........#.......................#..#........##.........#.#.............................')"
   ]
  },
  {
   "cell_type": "code",
   "execution_count": 40,
   "id": "c5fa2dd8",
   "metadata": {},
   "outputs": [
    {
     "data": {
      "text/plain": [
       "[['#', '.', '.', '.', '.', '.', '.', '.', '.', '.'],\n",
       " ['.', '#', '.', '.', '.', '.', '.', '.', '.', '.'],\n",
       " ['.', '#', '.', '.', '.', '.', '.', '.', '.', '.'],\n",
       " ['.', '.', '.', '.', '.', '.', '.', '.', '.', '.'],\n",
       " ['.', '.', '.', '.', '.', '#', '.', '.', '#', '.'],\n",
       " ['.', '.', '.', '.', '.', '.', '.', '#', '#', '.'],\n",
       " ['.', '.', '.', '.', '.', '.', '.', '.', '#', '.'],\n",
       " ['#', '.', '.', '.', '.', '.', '.', '.', '.', '.'],\n",
       " ['.', '.', '.', '.', '.', '.', '.', '.', '.', '.'],\n",
       " ['.', '.', '.', '.', '.', '.', '.', '.', '.', '.']]"
      ]
     },
     "execution_count": 40,
     "metadata": {},
     "output_type": "execute_result"
    }
   ],
   "source": [
    "test2_grid"
   ]
  },
  {
   "cell_type": "code",
   "execution_count": null,
   "id": "093560ea",
   "metadata": {},
   "outputs": [],
   "source": []
  }
 ],
 "metadata": {
  "kernelspec": {
   "display_name": "Python 3 (ipykernel)",
   "language": "python",
   "name": "python3"
  },
  "language_info": {
   "codemirror_mode": {
    "name": "ipython",
    "version": 3
   },
   "file_extension": ".py",
   "mimetype": "text/x-python",
   "name": "python",
   "nbconvert_exporter": "python",
   "pygments_lexer": "ipython3",
   "version": "3.9.12"
  }
 },
 "nbformat": 4,
 "nbformat_minor": 5
}
