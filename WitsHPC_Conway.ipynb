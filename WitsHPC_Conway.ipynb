{
 "cells": [
  {
   "cell_type": "markdown",
   "id": "080006fb",
   "metadata": {},
   "source": [
    "## Problem\n",
    "### Game of Life\n",
    "Conway's Game of Life is a cellular automaton that is played on a grid of cells. Each cell can be either alive or dead. The game progresses in discrete steps. At each step, the following rules are applied to each cell:\n",
    "\n",
    "- Any live cell with fewer than two live neighbours dies, as if by underpopulation.\n",
    "- Any live cell with two or three live neighbours lives on to the next generation.\n",
    "- Any live cell with more than three live neighbours dies, as if by overpopulation.\n",
    "- Any dead cell with exactly three live neighbours becomes a live cell, as if by reproduction.\n",
    "\n",
    "A cell's neighbours are those cells which are horizontally, vertically or diagonally adjacent. Most cells will have eight neighbours. We also follow wrapping conventions, so that the top row is adjacent to the bottom row, and the left column is adjacent to the right column.\n",
    "Furthermore, we do not update the grid in place. This means we first compute the next state of the grid using the current state and then update the grid with the new state. Notably, this is often done using two arrays, one for the current state and one for the next state. This is because the next state of a cell depends on the current state of the cell and its neighbours. If we were to update the grid in place, then we would be using the new state of a cell to compute the new state of its neighbours, which is not what we want.\n",
    "\n",
    "### Our parametrisation\n",
    "For this challenge, we make a small change to the rules above. Instead of having a fixed number of neighbours for each of the rules, we allow the number of neighbours to be a parameter. In particular, we have three parameters A, B, and C and the rules are as follows:\n",
    "\n",
    "- Any live cell with fewer than A live neighbours dies, as if by underpopulation.\n",
    "- Any live cell with between A or B live neighbours lives on to the next generation (inclusive).\n",
    "- Any live cell with more than B live neighbours dies, as if by overpopulation.\n",
    "- Any dead cell with exactly C live neighbours becomes a live cell, as if by reproduction.\n",
    "\n",
    "### Input\n",
    "Your input will be passed in via standard in and will consist of several lines. The first line will be:\n",
    "\n",
    "w h n m A B C, where:\n",
    "\n",
    "- w is the width of the grid\n",
    "- h is the height of the grid\n",
    "- n is the number of steps to simulate\n",
    "- m is the output frequency, i.e. the number of steps between each output\n",
    "Then, A, B, and C, indicate the numbers for the rules mentioned above\n",
    "We guarantee that the parameters will have the following bounds:\n",
    "\n",
    "The next h lines will indicate the initial state. Each line will have w characters, each of which will be either . (dead) or # (alive).\n",
    "\n",
    "### Output\n",
    "The output must be the state of the grid, every m steps, for n steps. The output must be in the same format as the input. For instance, if n = 1001 and m = 250, we output the following:\n",
    "\n",
    "The result after the first iteration\n",
    "The result after the 251st iteration\n",
    "The result after the 501st iteration\n",
    "The result after the 751st iteration\n",
    "The result after the 1001st iteration\n",
    "You must always output the final state of the grid, but do not output it twice. Furthermore, the state after the first iteration must also always be printed, regardless of the value of m."
   ]
  },
  {
   "cell_type": "code",
   "execution_count": 1,
   "id": "fc471fa6",
   "metadata": {},
   "outputs": [],
   "source": [
    "#Example \n",
    "# 10 10 1000000 100000000 2 3 3\n",
    "# ..........\n",
    "# .#........\n",
    "# .#........\n",
    "# ..........\n",
    "# .....#..#.\n",
    "# .......##.\n",
    "# ........#.\n",
    "# #.........\n",
    "# ..........\n",
    "# .........."
   ]
  },
  {
   "cell_type": "code",
   "execution_count": 2,
   "id": "7b9285ef",
   "metadata": {},
   "outputs": [],
   "source": [
    "#Creating the print grid function\n",
    "def printGrid(grid):\n",
    "    bigGrid = []\n",
    "    for i in grid:\n",
    "        bigGrid.append(''.join(i))\n",
    "    print('\\n'.join(bigGrid))\n",
    "\n",
    "#Creating the main game function\n",
    "def conwaysGameOfLife(w, h, n, m, A, B, C, initial_grid):\n",
    "    #Converting the initial grid to a list form\n",
    "    #Separating into seperate rows, every 10 characters\n",
    "    grid_splits = [initial_grid[i:i+w] for i in range(0, len(initial_grid), w)]\n",
    "    #Seperating each row into different columns\n",
    "    griddy = []\n",
    "    for i in grid_splits:\n",
    "        griddy.append(list(i))\n",
    "    return griddy"
   ]
  },
  {
   "cell_type": "code",
   "execution_count": 3,
   "id": "98cba1b7",
   "metadata": {},
   "outputs": [
    {
     "name": "stdout",
     "output_type": "stream",
     "text": [
      "..........\n",
      ".#........\n",
      ".#........\n",
      "..........\n",
      ".....#..#.\n",
      ".......##.\n",
      "........#.\n",
      "#.........\n",
      "..........\n",
      "..........\n"
     ]
    }
   ],
   "source": [
    "printGrid(conwaysGameOfLife(10, 10, 1000000, 100000000, 2, 3, 3, '...........#.........#.......................#..#........##.........#.#.............................'))"
   ]
  },
  {
   "cell_type": "code",
   "execution_count": 4,
   "id": "61aa9bc3",
   "metadata": {},
   "outputs": [],
   "source": [
    "test_grid = conwaysGameOfLife(10, 10, 1000000, 100000000, 2, 3, 3, '...........#.........#.......................#..#........##.........#.#.............................')"
   ]
  },
  {
   "cell_type": "markdown",
   "id": "f6e8c590",
   "metadata": {},
   "source": [
    "To make decisions on whether the cell will be dead or alive, we need the number of neighbors it has. To achieve this we need to iterate first get how many live neighbors a cell has. This can be done by iterating through each element in the list and keep track of row and column number"
   ]
  },
  {
   "cell_type": "code",
   "execution_count": 5,
   "id": "5b991473",
   "metadata": {},
   "outputs": [
    {
     "data": {
      "text/plain": [
       "[['.', '.', '.', '.', '.', '.', '.', '.', '.', '.'],\n",
       " ['.', '#', '.', '.', '.', '.', '.', '.', '.', '.'],\n",
       " ['.', '#', '.', '.', '.', '.', '.', '.', '.', '.'],\n",
       " ['.', '.', '.', '.', '.', '.', '.', '.', '.', '.'],\n",
       " ['.', '.', '.', '.', '.', '#', '.', '.', '#', '.'],\n",
       " ['.', '.', '.', '.', '.', '.', '.', '#', '#', '.'],\n",
       " ['.', '.', '.', '.', '.', '.', '.', '.', '#', '.'],\n",
       " ['#', '.', '.', '.', '.', '.', '.', '.', '.', '.'],\n",
       " ['.', '.', '.', '.', '.', '.', '.', '.', '.', '.'],\n",
       " ['.', '.', '.', '.', '.', '.', '.', '.', '.', '.']]"
      ]
     },
     "execution_count": 5,
     "metadata": {},
     "output_type": "execute_result"
    }
   ],
   "source": [
    "test_grid"
   ]
  },
  {
   "cell_type": "code",
   "execution_count": 6,
   "id": "b14ea10e",
   "metadata": {},
   "outputs": [
    {
     "ename": "IndexError",
     "evalue": "list index out of range",
     "output_type": "error",
     "traceback": [
      "\u001b[1;31m---------------------------------------------------------------------------\u001b[0m",
      "\u001b[1;31mIndexError\u001b[0m                                Traceback (most recent call last)",
      "Input \u001b[1;32mIn [6]\u001b[0m, in \u001b[0;36m<cell line: 2>\u001b[1;34m()\u001b[0m\n\u001b[0;32m      1\u001b[0m \u001b[38;5;66;03m#Case 1\u001b[39;00m\n\u001b[1;32m----> 2\u001b[0m \u001b[43mtest_grid\u001b[49m\u001b[43m[\u001b[49m\u001b[38;5;241;43m0\u001b[39;49m\u001b[43m]\u001b[49m\u001b[43m[\u001b[49m\u001b[38;5;241;43m10\u001b[39;49m\u001b[43m]\u001b[49m\n",
      "\u001b[1;31mIndexError\u001b[0m: list index out of range"
     ]
    }
   ],
   "source": [
    "#Case 1\n",
    "test_grid[0][10]"
   ]
  },
  {
   "cell_type": "code",
   "execution_count": 7,
   "id": "d7c43a60",
   "metadata": {},
   "outputs": [
    {
     "ename": "IndexError",
     "evalue": "list index out of range",
     "output_type": "error",
     "traceback": [
      "\u001b[1;31m---------------------------------------------------------------------------\u001b[0m",
      "\u001b[1;31mIndexError\u001b[0m                                Traceback (most recent call last)",
      "Input \u001b[1;32mIn [7]\u001b[0m, in \u001b[0;36m<cell line: 2>\u001b[1;34m()\u001b[0m\n\u001b[0;32m      1\u001b[0m \u001b[38;5;66;03m#Case 2\u001b[39;00m\n\u001b[1;32m----> 2\u001b[0m \u001b[43mtest_grid\u001b[49m\u001b[43m[\u001b[49m\u001b[38;5;241;43m0\u001b[39;49m\u001b[43m]\u001b[49m\u001b[43m[\u001b[49m\u001b[38;5;241;43m-\u001b[39;49m\u001b[38;5;241;43m11\u001b[39;49m\u001b[43m]\u001b[49m\n",
      "\u001b[1;31mIndexError\u001b[0m: list index out of range"
     ]
    }
   ],
   "source": [
    "#Case 2\n",
    "test_grid[0][-11]"
   ]
  },
  {
   "cell_type": "markdown",
   "id": "e44c69a4",
   "metadata": {},
   "source": [
    "Because each side of the grid is wrapped we have a problem with edge cells (Case 1). Hence we need to account for the case where our iterating variable is greater than the range of the index. This is only problem when we increment as the negative range will never be reached (Case 2)"
   ]
  },
  {
   "cell_type": "code",
   "execution_count": 8,
   "id": "e997adc7",
   "metadata": {},
   "outputs": [],
   "source": [
    "#Neighbour mappings are: \n",
    "\n",
    "#  left-u |   up  | right-u\n",
    "#  left-c | index | right-c\n",
    "#  left-d |  down | right-d "
   ]
  },
  {
   "cell_type": "code",
   "execution_count": 10,
   "id": "275a7a29",
   "metadata": {},
   "outputs": [],
   "source": [
    "def cellHealth(value_arr):\n",
    "    neighbor_result = []\n",
    "    for i in value_arr:\n",
    "        output = []\n",
    "        for j in i:\n",
    "            if j=='#':\n",
    "                output.append(1)\n",
    "            else:\n",
    "                output.append(0)\n",
    "        neighbor_result.append(output)\n",
    "    return neighbor_result\n",
    "\n",
    "def neighbour_checker(test_grid, i, j):\n",
    "    i_down = i+1\n",
    "    j_right = j+1\n",
    "\n",
    "    if i == 9:\n",
    "        i_down = 0\n",
    "    if j == 9:\n",
    "        j_right = 0\n",
    "    \n",
    "    #the current index is  [i][j]\n",
    "    #Checking left-u neighbor\n",
    "    lu = test_grid[i-1][j-1]\n",
    "    #Checking left-c neighbour\n",
    "    lc =test_grid[i][j-1]\n",
    "    #Checking left_d neighbour\n",
    "    ld = test_grid[i_down][j-1]\n",
    "\n",
    "    #Checking up neighbour\n",
    "    u = test_grid[i-1][j]\n",
    "    #Checking down neighbour\n",
    "    d = test_grid[i_down][j]\n",
    "\n",
    "    #Checking right-u neighbour\n",
    "    ru = test_grid[i-1][j_right]\n",
    "    #Checking right-c neighbour\n",
    "    rc = test_grid[i][j_right]\n",
    "    #Checking right-d neighbour\n",
    "    rd = test_grid[i_down][j_right]\n",
    "    return cellHealth([[lu, lc , ld], [u, d], [ru, rc, rd]])"
   ]
  },
  {
   "cell_type": "code",
   "execution_count": 30,
   "id": "4ca041e8",
   "metadata": {},
   "outputs": [],
   "source": [
    "def neighbour_sum(lists):\n",
    "    neighbors = 0\n",
    "    for i in lists:\n",
    "        neighbors += sum(i)\n",
    "    return neighbors\n",
    "\n",
    "def neighbour_calc(grid, i, j):\n",
    "    return neighbour_sum(neighbour_checker(grid, i, j))"
   ]
  },
  {
   "cell_type": "code",
   "execution_count": 27,
   "id": "e1bc02bf",
   "metadata": {},
   "outputs": [],
   "source": [
    "test2_grid = conwaysGameOfLife(10, 10, 1000000, 100000000, 2, 3, 3, '#.......#..#.........#.......................#..#........##.........#.#.............................')"
   ]
  },
  {
   "cell_type": "code",
   "execution_count": 28,
   "id": "f701864a",
   "metadata": {},
   "outputs": [
    {
     "data": {
      "text/plain": [
       "[[1, 0, 0], [0, 1], [0, 0, 0]]"
      ]
     },
     "execution_count": 28,
     "metadata": {},
     "output_type": "execute_result"
    }
   ],
   "source": [
    "neighbour_checker(test2_grid, 1, 1)"
   ]
  },
  {
   "cell_type": "code",
   "execution_count": 31,
   "id": "2ed2d52f",
   "metadata": {},
   "outputs": [
    {
     "data": {
      "text/plain": [
       "2"
      ]
     },
     "execution_count": 31,
     "metadata": {},
     "output_type": "execute_result"
    }
   ],
   "source": [
    "neighbour_calc(test2_grid, 0, 9)"
   ]
  },
  {
   "cell_type": "code",
   "execution_count": 23,
   "id": "4fad992a",
   "metadata": {},
   "outputs": [
    {
     "data": {
      "text/plain": [
       "[['#', '.', '.', '.', '.', '.', '.', '.', '#', '.'],\n",
       " ['.', '#', '.', '.', '.', '.', '.', '.', '.', '.'],\n",
       " ['.', '#', '.', '.', '.', '.', '.', '.', '.', '.'],\n",
       " ['.', '.', '.', '.', '.', '.', '.', '.', '.', '.'],\n",
       " ['.', '.', '.', '.', '.', '#', '.', '.', '#', '.'],\n",
       " ['.', '.', '.', '.', '.', '.', '.', '#', '#', '.'],\n",
       " ['.', '.', '.', '.', '.', '.', '.', '.', '#', '.'],\n",
       " ['#', '.', '.', '.', '.', '.', '.', '.', '.', '.'],\n",
       " ['.', '.', '.', '.', '.', '.', '.', '.', '.', '.'],\n",
       " ['.', '.', '.', '.', '.', '.', '.', '.', '.', '.']]"
      ]
     },
     "execution_count": 23,
     "metadata": {},
     "output_type": "execute_result"
    }
   ],
   "source": [
    "test2_grid"
   ]
  },
  {
   "cell_type": "markdown",
   "id": "9b6701c9",
   "metadata": {},
   "source": [
    "## Using the functions to iterate through grid and make decisions"
   ]
  },
  {
   "cell_type": "code",
   "execution_count": null,
   "id": "99d010e7",
   "metadata": {},
   "outputs": [],
   "source": [
    "#Any live cell with fewer than two live neighbours dies, as if by underpopulation.\n",
    "#Any live cell with two or three live neighbours lives on to the next generation.\n",
    "#Any live cell with more than three live neighbours dies, as if by overpopulation.\n",
    "#Any dead cell with exactly three live neighbours becomes a live cell, as if by reproduction."
   ]
  },
  {
   "cell_type": "code",
   "execution_count": 55,
   "id": "cabe7178",
   "metadata": {},
   "outputs": [],
   "source": [
    "def cellAliveOrDead(grid, i, j):\n",
    "    cellValue = grid[i][j]\n",
    "    cellState = False\n",
    "    if cellValue == '#':\n",
    "        cellState = True\n",
    "    else:\n",
    "        cellState = False\n",
    "    neighbours = neighbour_calc(grid, i, j)\n",
    "    \n",
    "    #For live cells\n",
    "    if neighbours < 2 and cellState == True:\n",
    "        return '.'\n",
    "    if (neighbours == 2 or neighbours == 3) and cellState == True:\n",
    "        return '#'\n",
    "    \n",
    "    if neighbours > 3 and cellState == True:\n",
    "        return '.'\n",
    "    \n",
    "    #For dead cells\n",
    "    if neighbours == 3 and cellState == False:\n",
    "        return '#'\n",
    "    else:\n",
    "        return '.'"
   ]
  },
  {
   "cell_type": "code",
   "execution_count": 56,
   "id": "48fc0cc6",
   "metadata": {},
   "outputs": [],
   "source": [
    "w = 10\n",
    "h = 10"
   ]
  },
  {
   "cell_type": "code",
   "execution_count": null,
   "id": "c4225b98",
   "metadata": {},
   "outputs": [],
   "source": []
  },
  {
   "cell_type": "code",
   "execution_count": 57,
   "id": "9cf31f19",
   "metadata": {},
   "outputs": [],
   "source": [
    "new_test = conwaysGameOfLife(10, 10, 1000000, 100000000, 2, 3, 3, '...........#.........#.......................#..#........##.........#.#.............................')"
   ]
  },
  {
   "cell_type": "code",
   "execution_count": 58,
   "id": "87a4c42b",
   "metadata": {},
   "outputs": [
    {
     "name": "stdout",
     "output_type": "stream",
     "text": [
      "..........\n",
      ".#........\n",
      ".#........\n",
      "..........\n",
      ".....#..#.\n",
      ".......##.\n",
      "........#.\n",
      "#.........\n",
      "..........\n",
      "..........\n"
     ]
    }
   ],
   "source": [
    "printGrid(new_test)"
   ]
  },
  {
   "cell_type": "code",
   "execution_count": 59,
   "id": "23581161",
   "metadata": {},
   "outputs": [],
   "source": [
    "new_grid = []\n",
    "for i in range(0, h):\n",
    "    new_grid_temp = []\n",
    "    for j in range(0, w):\n",
    "        new_grid_temp.append(cellAliveOrDead(new_test, i, j))\n",
    "    new_grid.append(new_grid_temp)"
   ]
  },
  {
   "cell_type": "code",
   "execution_count": 61,
   "id": "fdd6a3ff",
   "metadata": {},
   "outputs": [
    {
     "name": "stdout",
     "output_type": "stream",
     "text": [
      "..........\n",
      "..........\n",
      "..........\n",
      "..........\n",
      ".......##.\n",
      ".......###\n",
      ".......###\n",
      "..........\n",
      "..........\n",
      "..........\n"
     ]
    }
   ],
   "source": [
    "printGrid(new_grid)"
   ]
  },
  {
   "cell_type": "code",
   "execution_count": null,
   "id": "e2cec7bc",
   "metadata": {},
   "outputs": [],
   "source": []
  },
  {
   "cell_type": "code",
   "execution_count": 38,
   "id": "b06b56d8",
   "metadata": {},
   "outputs": [],
   "source": [
    "neighbor_grid = []\n",
    "for i in range(0, h):\n",
    "    temp_neighbor_out = []\n",
    "    for j in range(0, w):\n",
    "        temp_neighbor_out.append(neighbour_calc(test2_grid, i, j))\n",
    "    neighbor_grid.append(temp_neighbor_out)"
   ]
  },
  {
   "cell_type": "code",
   "execution_count": 43,
   "id": "a7a04719",
   "metadata": {},
   "outputs": [
    {
     "data": {
      "text/plain": [
       "[['#', '.', '.', '.', '.', '.', '.', '.', '#', '.'],\n",
       " ['.', '#', '.', '.', '.', '.', '.', '.', '.', '.'],\n",
       " ['.', '#', '.', '.', '.', '.', '.', '.', '.', '.'],\n",
       " ['.', '.', '.', '.', '.', '.', '.', '.', '.', '.'],\n",
       " ['.', '.', '.', '.', '.', '#', '.', '.', '#', '.'],\n",
       " ['.', '.', '.', '.', '.', '.', '.', '#', '#', '.'],\n",
       " ['.', '.', '.', '.', '.', '.', '.', '.', '#', '.'],\n",
       " ['#', '.', '.', '.', '.', '.', '.', '.', '.', '.'],\n",
       " ['.', '.', '.', '.', '.', '.', '.', '.', '.', '.'],\n",
       " ['.', '.', '.', '.', '.', '.', '.', '.', '.', '.']]"
      ]
     },
     "execution_count": 43,
     "metadata": {},
     "output_type": "execute_result"
    }
   ],
   "source": [
    "test2_grid"
   ]
  },
  {
   "cell_type": "code",
   "execution_count": 39,
   "id": "1eb7666a",
   "metadata": {},
   "outputs": [
    {
     "data": {
      "text/plain": [
       "[[1, 2, 1, 0, 0, 0, 0, 1, 0, 2],\n",
       " [3, 2, 2, 0, 0, 0, 0, 1, 1, 2],\n",
       " [2, 1, 2, 0, 0, 0, 0, 0, 0, 0],\n",
       " [1, 1, 1, 0, 1, 1, 1, 1, 1, 1],\n",
       " [0, 0, 0, 0, 1, 0, 2, 3, 2, 2],\n",
       " [0, 0, 0, 0, 1, 1, 2, 3, 3, 3],\n",
       " [1, 1, 0, 0, 0, 0, 1, 3, 2, 3],\n",
       " [0, 1, 0, 0, 0, 0, 0, 1, 1, 2],\n",
       " [1, 1, 0, 0, 0, 0, 0, 0, 0, 1],\n",
       " [1, 1, 0, 0, 0, 0, 0, 1, 1, 2]]"
      ]
     },
     "execution_count": 39,
     "metadata": {},
     "output_type": "execute_result"
    }
   ],
   "source": [
    "neighbor_grid"
   ]
  },
  {
   "cell_type": "code",
   "execution_count": null,
   "id": "8f7bbbc5",
   "metadata": {},
   "outputs": [],
   "source": []
  }
 ],
 "metadata": {
  "kernelspec": {
   "display_name": "Python 3 (ipykernel)",
   "language": "python",
   "name": "python3"
  },
  "language_info": {
   "codemirror_mode": {
    "name": "ipython",
    "version": 3
   },
   "file_extension": ".py",
   "mimetype": "text/x-python",
   "name": "python",
   "nbconvert_exporter": "python",
   "pygments_lexer": "ipython3",
   "version": "3.9.12"
  }
 },
 "nbformat": 4,
 "nbformat_minor": 5
}
